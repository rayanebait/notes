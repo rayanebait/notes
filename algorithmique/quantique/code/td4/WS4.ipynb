{
 "cells": [
  {
   "cell_type": "code",
   "execution_count": 1,
   "metadata": {},
   "outputs": [],
   "source": [
    "from quantum.computer import QuantumComputer\n",
    "%display latex"
   ]
  },
  {
   "cell_type": "markdown",
   "metadata": {},
   "source": [
    "# 1. Factorization\n",
    "\n",
    "We recall the function `SimplifiedShorCircuit` we implemented in the previous WS."
   ]
  },
  {
   "cell_type": "code",
   "execution_count": 2,
   "metadata": {},
   "outputs": [],
   "source": [
    "def SimplifiedShorCircuit(f, n, m):\n",
    "    QC = QuantumComputer()\n",
    "    x = QC.malloc(n)\n",
    "    y = QC.malloc(m)\n",
    "    QC.hadamard(x)\n",
    "    QC.apply(f, x, y)\n",
    "    angle = 0\n",
    "    outcome = 0\n",
    "    for i in range(n):\n",
    "        QC.phase_shift(x[n-1-i], angle)\n",
    "        QC.hadamard(x[n-1-i])\n",
    "        v = QC.measure(x[n-1-i])\n",
    "        angle = angle/2 + (pi/2)*v\n",
    "        outcome += v * (2**i)\n",
    "    return outcome"
   ]
  },
  {
   "cell_type": "markdown",
   "metadata": {},
   "source": [
    "**Exercice 1.1**: implement a function `ShorFactorization(n)` that takes as input an integer `n`, runs Shor's factorization algorithm (possibly several times) and outputs a nontrivial divisor of `n` (you can use the function `powermod` defined below)"
   ]
  },
  {
   "cell_type": "code",
   "execution_count": 26,
   "metadata": {},
   "outputs": [],
   "source": [
    "def powermod(a, n):\n",
    "    def f(x):\n",
    "        return (a^x) % n\n",
    "    return f"
   ]
  },
  {
   "cell_type": "code",
   "execution_count": 37,
   "metadata": {},
   "outputs": [],
   "source": [
    "def ShorFactorization(n):\n",
    "    def prerequisites(n):\n",
    "        return floor(log(2,n))+1\n",
    "    N=prerequisites(n)\n",
    "    while True :\n",
    "        a=ZZ.random_element(1, n-1)\n",
    "        d=gcd(a,n)\n",
    "        if d!=1:\n",
    "            return d\n",
    "        multiples_of_period=[]\n",
    "        for i in range(3):\n",
    "            multiples_of_period.append(SimplifiedShorCircuit(powermod, N,N))\n",
    "        r=gcd(multiples_of_period)\n",
    "\n",
    "        if not r.is_even():\n",
    "            continue\n",
    "        else:\n",
    "            return gcd(n,a^{r/2}+1)\n",
    "\"\"\"\n",
    "Ne marche pas systématiquement,\n",
    "je suis pas sûr de mes entrées \n",
    "dans SimplifiedShorCircuit.\n",
    "\"\"\""
   ]
  },
  {
   "cell_type": "code",
   "execution_count": 39,
   "metadata": {},
   "outputs": [
    {
     "data": {
      "text/html": [
       "<html>\\(\\displaystyle 5\\)</html>"
      ],
      "text/latex": [
       "$\\displaystyle 5$"
      ],
      "text/plain": [
       "5"
      ]
     },
     "execution_count": 39,
     "metadata": {},
     "output_type": "execute_result"
    }
   ],
   "source": [
    "ShorFactorization(15)   # should return 3 or 5"
   ]
  },
  {
   "cell_type": "markdown",
   "metadata": {},
   "source": [
    "We now want to avoid the use of `apply` (which is kind of cheating). For simplicty, we will nevertheless assume that our quantum processor has a builtin function `cimulmod` that performs a controlled modular multiplication. This function implements the gate $\\text{CM}_{h,n}$ defined by:\n",
    "\n",
    "$$\\begin{array}{rll}\n",
    "\\text{CM}_{h,n} \\big(\\left|c\\right> \\otimes \\left|x\\right>\\big) \\hspace{-1.5ex}\n",
    " & = \\big(\\left|c\\right> \\otimes \\left|x\\right>\\big) & \\text{if } c = 0 \\text{ or } x \\geq n \\\\\n",
    " & = \\big(\\left|c\\right> \\otimes \\left|hx \\text{ mod } n\\right>\\big) & \\text{otherwise}\n",
    "\\end{array}$$\n",
    "\n",
    "If `c` and `x` denote the registers on which the qubits $\\left|c\\right>$ and $\\left|x\\right>$ are stored respectively, the syntax for applying the previous gate is:\n",
    "\n",
    "``QC.cimulmod(c, x, h, n)``\n",
    "\n",
    "where `QC` is the quantum computer on which this instruction is performed.\n",
    "\n",
    "Here is an example:"
   ]
  },
  {
   "cell_type": "code",
   "execution_count": null,
   "metadata": {},
   "outputs": [],
   "source": [
    "# We pick a quantum computer and allocate memory\n",
    "QC = QuantumComputer()\n",
    "c = QC.malloc(1)\n",
    "x = QC.malloc(3)\n",
    "y = QC.malloc(3)\n",
    "\n",
    "# We create a uniform superposition for c and x\n",
    "QC.hadamard(c)\n",
    "QC.hadamard(x)\n",
    "\n",
    "QC.internal_state()"
   ]
  },
  {
   "cell_type": "code",
   "execution_count": null,
   "metadata": {},
   "outputs": [],
   "source": [
    "# We copy the value of x in y\n",
    "QC.CX(x[0], y[0])\n",
    "QC.CX(x[1], y[1])\n",
    "QC.CX(x[2], y[2])\n",
    "\n",
    "QC.internal_state()"
   ]
  },
  {
   "cell_type": "code",
   "execution_count": null,
   "metadata": {},
   "outputs": [],
   "source": [
    "# We now apply cimulmod\n",
    "QC.cimulmod(c, x, 2, 7)\n",
    "\n",
    "QC.internal_state()"
   ]
  },
  {
   "cell_type": "markdown",
   "metadata": {},
   "source": [
    "**Exercise 1.2**: write a function `quantumExponentiation(QC, x, y, g, N)` that implements the gate\n",
    "$\\left|n\\right> \\otimes \\left|y\\right> \\mapsto \\left|n\\right> \\otimes \\left|yg^n \\text{ mod } N \\right>$"
   ]
  },
  {
   "cell_type": "code",
   "execution_count": null,
   "metadata": {},
   "outputs": [],
   "source": [
    "def quantumExponentiation(QC, x, y, g, N):\n",
    "    r\"\"\"\n",
    "    Apply Shor's circuit with the function `f` taking `n` to `g^n` modulo `modulus`\n",
    "    \n",
    "    INPUT:\n",
    "    \n",
    "    - ``QC`` -- a quantum computer\n",
    "    \n",
    "    - ``x`` -- a register on ``QC``\n",
    "      \n",
    "    - ``y`` -- a register on ``QC``\n",
    "    \n",
    "    - ``g`` -- an integer\n",
    "    \n",
    "    - ``N`` -- an integer\n",
    "    \"\"\"\n",
    "    # Write your code here"
   ]
  },
  {
   "cell_type": "code",
   "execution_count": null,
   "metadata": {},
   "outputs": [],
   "source": [
    "# Write tests here demonstrating that your function works correctly"
   ]
  },
  {
   "cell_type": "markdown",
   "metadata": {},
   "source": [
    "**Exercise 1.3**: write the circuit corresponding to the function `SimplifiedShorCircuit` where the call the method `apply` is replaced by `quantumExponentiation`; observe that this circuit can be simplified and write its simplified form."
   ]
  },
  {
   "cell_type": "markdown",
   "metadata": {},
   "source": [
    "**Exercise 1.4**: rewrite the function `ShorFactorization(n)` combining all what precedes"
   ]
  },
  {
   "cell_type": "code",
   "execution_count": null,
   "metadata": {},
   "outputs": [],
   "source": [
    "def ShorFactorization(n):\n",
    "    # Write your code here"
   ]
  },
  {
   "cell_type": "code",
   "execution_count": null,
   "metadata": {},
   "outputs": [],
   "source": [
    "ShorFactorization(2419)  # should output 41 or 59"
   ]
  },
  {
   "cell_type": "markdown",
   "metadata": {},
   "source": [
    "# 2. Discrete logarithm"
   ]
  },
  {
   "cell_type": "markdown",
   "metadata": {},
   "source": [
    "**Exercise 2.1 (bonus)**: write a function `ShorDiscreteLogarithm(g, h, n)` that computes the discrete logarithm of `h` modulo `N` in base `g` using Shor algorithm"
   ]
  },
  {
   "cell_type": "code",
   "execution_count": null,
   "metadata": {},
   "outputs": [],
   "source": [
    "def ShorDiscreteLogarithm(g, h, n):\n",
    "    # Write your code here"
   ]
  },
  {
   "cell_type": "code",
   "execution_count": null,
   "metadata": {},
   "outputs": [],
   "source": []
  }
 ],
 "metadata": {
  "kernelspec": {
   "display_name": "SageMath 10.4",
   "language": "sage",
   "name": "sagemath"
  },
  "language_info": {
   "codemirror_mode": {
    "name": "ipython",
    "version": 3
   },
   "file_extension": ".py",
   "mimetype": "text/x-python",
   "name": "python",
   "nbconvert_exporter": "python",
   "pygments_lexer": "ipython3",
   "version": "3.12.7"
  }
 },
 "nbformat": 4,
 "nbformat_minor": 4
}
