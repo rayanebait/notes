{
 "cells": [
  {
   "cell_type": "code",
   "execution_count": 60,
   "metadata": {},
   "outputs": [],
   "source": [
    "from quantum.computer import QuantumComputer\n",
    "%display latex"
   ]
  },
  {
   "cell_type": "markdown",
   "metadata": {},
   "source": [
    "# 1. Simon algorithm"
   ]
  },
  {
   "cell_type": "markdown",
   "metadata": {},
   "source": [
    "**Exercise 1.1**: implement the Simon's circuit: write a function `simonCircuit(n, m, f)` that takes as input a function $f: \\{0, 1\\}^n \\to X$ and outputs the outcome of the measure of the Simon circuit. (Here, we assume that elements of $X$ are encoded by integers written on $m$ bits, *e.g.* $X = \\{0, 1, \\ldots, 2^m-1\\}$.)"
   ]
  },
  {
   "cell_type": "code",
   "execution_count": 123,
   "metadata": {},
   "outputs": [],
   "source": [
    "def simonCircuit(n, m, f):\n",
    "    QC=QuantumComputer()\n",
    "    a=QC.malloc(n)\n",
    "    b=QC.malloc(m)\n",
    "    QC.hadamard(a)\n",
    "    QC.apply(f,a,b)\n",
    "    QC.hadamard(a)\n",
    "    result=QC.measure(a)\n",
    "    QC.free(a)\n",
    "    QC.free(b)\n",
    "    print(\"Orthogonal vector : \", result)\n",
    "    return result\n",
    "    "
   ]
  },
  {
   "cell_type": "markdown",
   "metadata": {},
   "source": [
    "**Exercice 1.2**: implement Simon's algorithm: write a function `simon(n, m, f)` that takes as input a function $f: \\{0, 1\\}^n \\to X$ with the promise that there exists `a` such that $f(x) = f(y)$ iff $y \\in \\{x, x+a\\}$, and outputs $a$."
   ]
  },
  {
   "cell_type": "code",
   "execution_count": 124,
   "metadata": {},
   "outputs": [],
   "source": [
    "def simon(n, m, f):\n",
    "    \"\"\"\n",
    "    Return `a` such that `f(x) = f(y)` iff `y = x` or `y = x + a`.\n",
    "    \"\"\"\n",
    "    def test(W,n):\n",
    "        if W.rank() == n-1:\n",
    "            return True\n",
    "        else:\n",
    "            return False\n",
    "    k=GF(2)\n",
    "    K=k^n\n",
    "\n",
    "    gen_family = [K(simonCircuit(n,m,f).digits(2,padto=n))]\n",
    "    print(gen_family)\n",
    "    \n",
    "    while not test(K.span(gen_family),n):\n",
    "        gen_family.append(K(simonCircuit(n,m,f).digits(2,padto=n)))\n",
    "        print(gen_family)\n",
    "    return K.span(gen_family).complement()\n"
   ]
  },
  {
   "cell_type": "markdown",
   "metadata": {},
   "source": [
    "**Exercise 1.3**: write tests demonstrating that your implementation works"
   ]
  },
  {
   "cell_type": "code",
   "execution_count": 127,
   "metadata": {
    "scrolled": true
   },
   "outputs": [
    {
     "name": "stdout",
     "output_type": "stream",
     "text": [
      "Orthogonal vector :  2\n",
      "[(0, 1, 0, 0, 0)]\n",
      "Orthogonal vector :  10\n",
      "[(0, 1, 0, 0, 0), (0, 1, 0, 1, 0)]\n",
      "Orthogonal vector :  15\n",
      "[(0, 1, 0, 0, 0), (0, 1, 0, 1, 0), (1, 1, 1, 1, 0)]\n",
      "Orthogonal vector :  4\n",
      "[(0, 1, 0, 0, 0), (0, 1, 0, 1, 0), (1, 1, 1, 1, 0), (0, 0, 1, 0, 0)]\n",
      "Result for x->2x : Vector space of degree 5 and dimension 1 over Finite Field of size 2\n",
      "Basis matrix:\n",
      "[0 0 0 0 1]\n",
      "Orthogonal vector :  1\n",
      "[(1, 0, 0, 0, 0)]\n",
      "Orthogonal vector :  0\n",
      "[(1, 0, 0, 0, 0), (0, 0, 0, 0, 0)]\n",
      "Orthogonal vector :  1\n",
      "[(1, 0, 0, 0, 0), (0, 0, 0, 0, 0), (1, 0, 0, 0, 0)]\n",
      "Orthogonal vector :  10\n",
      "[(1, 0, 0, 0, 0), (0, 0, 0, 0, 0), (1, 0, 0, 0, 0), (0, 1, 0, 1, 0)]\n",
      "Orthogonal vector :  6\n",
      "[(1, 0, 0, 0, 0), (0, 0, 0, 0, 0), (1, 0, 0, 0, 0), (0, 1, 0, 1, 0), (0, 1, 1, 0, 0)]\n",
      "Orthogonal vector :  13\n",
      "[(1, 0, 0, 0, 0), (0, 0, 0, 0, 0), (1, 0, 0, 0, 0), (0, 1, 0, 1, 0), (0, 1, 1, 0, 0), (1, 0, 1, 1, 0)]\n",
      "Orthogonal vector :  7\n",
      "[(1, 0, 0, 0, 0), (0, 0, 0, 0, 0), (1, 0, 0, 0, 0), (0, 1, 0, 1, 0), (0, 1, 1, 0, 0), (1, 0, 1, 1, 0), (1, 1, 1, 0, 0)]\n",
      "Orthogonal vector :  4\n",
      "[(1, 0, 0, 0, 0), (0, 0, 0, 0, 0), (1, 0, 0, 0, 0), (0, 1, 0, 1, 0), (0, 1, 1, 0, 0), (1, 0, 1, 1, 0), (1, 1, 1, 0, 0), (0, 0, 1, 0, 0)]\n",
      "Result for x->x^2 : Vector space of degree 5 and dimension 1 over Finite Field of size 2\n",
      "Basis matrix:\n",
      "[0 0 0 0 1]\n"
     ]
    }
   ],
   "source": [
    " def f(a):\n",
    "     \"\"\"\n",
    "     Mise au carré : (Z/2^nZ)**n->(Z/2^nZ)\n",
    "     x^2=y^2 mod 2^n\n",
    "     -> x=y ou x=-y (Hensel)\n",
    "     \"\"\"\n",
    "     \"\"\"\n",
    "    Je suis pas sûr de ce que pas réduire modulo\n",
    "    n fait, je voulais utiliser x-> x^2 2^n\n",
    "    mais je n'arrive pas à accéder à n.\n",
    "    \"\"\"\n",
    "     return 2*a\n",
    "\n",
    "def g(a):\n",
    "    return a^2\n",
    "    \n",
    "n=5\n",
    "m=5\n",
    "print(\"Result for x->2x :\",simon(n,m,f))\n",
    "print(\"Result for x->x^2 :\",simon(n,m,g))\n",
    "     "
   ]
  },
  {
   "cell_type": "markdown",
   "metadata": {},
   "source": [
    "# 2. Shor algorithm"
   ]
  },
  {
   "cell_type": "markdown",
   "metadata": {},
   "source": [
    "## Controlled phase shift gate\n",
    "\n",
    "Unfortunately, controlled phase shift gates are not builtin functions of our quantum computer.\n",
    "\n",
    "One can nevertheless implement it in soft as follows:"
   ]
  },
  {
   "cell_type": "raw",
   "metadata": {},
   "source": [
    "def controlledPhaseShift(QC, c, x, angle):\n",
    "    r\"\"\"\n",
    "    INPUT:\n",
    "    \n",
    "    - ``QC'' -- the quantum computer on which the gate is applied\n",
    "    \n",
    "    - ``c'' -- the controlled register\n",
    "    \n",
    "    - ``x'' -- the register on which the phase shift gate acts\n",
    "    \n",
    "    - ``angle`` -- the angle of rotation\n",
    "    \"\"\"\n",
    "    QC.phase_shift(c, angle/2)\n",
    "    QC.phase_shift(x, angle/2)\n",
    "    QC.CX(c, x)\n",
    "    QC.phase_shift(x, -angle/2)\n",
    "    QC.CX(c, x)"
   ]
  },
  {
   "cell_type": "code",
   "execution_count": 128,
   "metadata": {},
   "outputs": [],
   "source": [
    "def controlledPhaseShift(QC, c, x, angle):\n",
    "    \"\"\"\n",
    "    INPUT:\n",
    "    \n",
    "    - ``QC'' -- the quantum computer on which the gate is applied\n",
    "    \n",
    "    - ``c'' -- the controlled register\n",
    "    \n",
    "    - ``x'' -- the register on which the phase shift gate acts\n",
    "    \n",
    "    - ``angle`` -- the angle of rotation\n",
    "    \"\"\"\n",
    "    QC.phase_shift(c, angle/2)\n",
    "    QC.phase_shift(x, angle/2)\n",
    "    QC.CX(c, x)\n",
    "    QC.phase_shift(x, -angle/2)\n",
    "    QC.CX(c, x)"
   ]
  },
  {
   "cell_type": "markdown",
   "metadata": {},
   "source": [
    "**Exercise 2.1**: prove that the function `controlledPhaseShift` works correctly.\n",
    "On peut supposer que l'état interne est $|c_0>|x_0>$ où $c$ pointe sur $c0$ et $x$ pointe sur $x0$.\n",
    "Alors, à la fin on obtient l'état \n",
    "$$(e^{i\\theta/2})^{(c0+x0)-(c_0\\oplus x_0)}|c_0>|x_0>$$\n",
    "En particulier, une inspection pour $c_0,x_0\\in \\{0,1\\}$ montre que la porte est la bonne. On remarque que si\n",
    "$c_0=x_0$ le résultat "
   ]
  },
  {
   "cell_type": "markdown",
   "metadata": {},
   "source": [
    "## Quantum Fourier transform\n",
    "\n",
    "Let $n$ be a positive integer.\n",
    "We recall that the Quantum Fourier transform is the gate $\\text{QFT}_n$ acting by:\n",
    "$$\\text{QFT}_n \\left|x\\right> = \\frac 1{2^{n/2}} \\cdot \\sum_{y=0}^{2^n-1} \\zeta_n^{xy} \\left|y\\right>$$\n",
    "with $\\zeta_n = \\exp\\big(\\frac{2i\\pi}{2^n}\\big)$"
   ]
  },
  {
   "cell_type": "markdown",
   "metadata": {},
   "source": [
    "**Exercise 2.2**: implement a function `QFT(QC, reg)` which applies the quantum Fourier transform to the register `reg` of the quantum computer `QC`."
   ]
  },
  {
   "cell_type": "code",
   "execution_count": 151,
   "metadata": {},
   "outputs": [],
   "source": [
    "def QFT(QC, reg):\n",
    "    n=reg.size()\n",
    "    \"\"\"\n",
    "    Construit le qbit 1/sqrt{2}(|0>+z_{n-i}^{x}|1>)\n",
    "    \"\"\"\n",
    "    def QFTi(QC,reg,i):\n",
    "        QC.hadamard(reg[n-i-1])\n",
    "        for j in range(1,n-i):\n",
    "            controlledPhaseShift(QC,reg[n-i-j],reg[n-i-1],2*pi/2^{j})\n",
    "    \"\"\"\n",
    "    En commençant par reg[n-1],\n",
    "    construit successivement le produit des qbits du dessus.\n",
    "    \"\"\"\n",
    "    for k in range(n):\n",
    "        QFTi(QC,reg,k)"
   ]
  },
  {
   "cell_type": "markdown",
   "metadata": {},
   "source": [
    "## Shor circuit\n",
    "\n",
    "**Exercise 2.3**: write a function `shorCircuit(n, m, f)` that takes as input integers $n$ and $m$ together with a function $f : \\mathbb Z \\to X$ (where elements of $X$ are encoded by integers written on $m$ bits, *e.g.* $X = \\{0, 1, \\ldots, 2^m-1\\}$) and outputs the outcome of the Shor circuit (normalized as a rational number between $0$ and $1$) corresponding to these values."
   ]
  },
  {
   "cell_type": "code",
   "execution_count": 152,
   "metadata": {},
   "outputs": [],
   "source": [
    "def shorCircuit(n, m, f):\n",
    "    QC=QuantumComputer()\n",
    "    a=QC.malloc(n)\n",
    "    b=QC.malloc(m)\n",
    "    QC.hadamard(a)\n",
    "    QC.apply(f,a,b)\n",
    "    QFT(QC,a)\n",
    "    return QC.measure(a)"
   ]
  },
  {
   "cell_type": "markdown",
   "metadata": {},
   "source": [
    "**Exercise 2.4**: below is a simplified version of the Shor circuit avoiding the use of controlled shift gates; draw the corresponding circuit and prove that it is equivalent to the classical Shor circuit."
   ]
  },
  {
   "cell_type": "code",
   "execution_count": 139,
   "metadata": {},
   "outputs": [],
   "source": [
    "def simplifiedShorCircuit(n, m, f):\n",
    "    QC = QuantumComputer()\n",
    "    x = QC.malloc(n)\n",
    "    y = QC.malloc(m)\n",
    "    QC.hadamard(x)\n",
    "    QC.apply(f, x, y)\n",
    "    angle = 0\n",
    "    outcome = 0\n",
    "    for i in range(n):\n",
    "        QC.phase_shift(x[n-1-i], angle)\n",
    "        QC.hadamard(x[n-1-i])\n",
    "        v = QC.measure(x[n-1-i])\n",
    "        angle = angle/2 + (pi/2)*v\n",
    "        outcome += v / 2**(n-i)\n",
    "    return outcome"
   ]
  },
  {
   "cell_type": "markdown",
   "metadata": {},
   "source": [
    "We now would like to observe the behavior of Shor's circuit.\n",
    "For this, we use the following code which runs Shor circuit with the function `f` a bunch of times and draws an histogram of the outcomes."
   ]
  },
  {
   "cell_type": "code",
   "execution_count": 140,
   "metadata": {},
   "outputs": [],
   "source": [
    "def statistics(n, m, f, repeat=100):\n",
    "    outcomes = [simplifiedShorCircuit(n, m, f) for _ in range(repeat)]\n",
    "    return histogram(outcomes, bins=2^n, range=[0,1])"
   ]
  },
  {
   "cell_type": "markdown",
   "metadata": {},
   "source": [
    "**Exercise 2.5**: run the function `statistics` with the functions $x \\mapsto x \\bmod r$ with $r = 2, 3, 4, 5, 8$ and comment the results you observe."
   ]
  },
  {
   "cell_type": "code",
   "execution_count": 142,
   "metadata": {},
   "outputs": [],
   "source": [
    "# The function x |-> x mod r\n",
    "def modr(r):\n",
    "    def f(x):\n",
    "        return x % r\n",
    "    return f"
   ]
  },
  {
   "cell_type": "code",
   "execution_count": 154,
   "metadata": {},
   "outputs": [
    {
     "data": {
      "image/png": "[encoded data removed]",
      "text/plain": [
       "Graphics object consisting of 1 graphics primitive"
      ]
     },
     "execution_count": 154,
     "metadata": {},
     "output_type": "execute_result"
    }
   ],
   "source": [
    "statistics(5,5,modr(8))"
   ]
  },
  {
   "cell_type": "markdown",
   "metadata": {},
   "source": [
    "## Finding periods \n",
    "\n",
    "The function `continued_fractions(x)` computes the continued fraction of a real number $x$"
   ]
  },
  {
   "cell_type": "code",
   "execution_count": 129,
   "metadata": {},
   "outputs": [
    {
     "data": {
      "text/html": [
       "<html>\\(\\displaystyle 3\n",
       "+ \\frac{\\displaystyle 1}{\\displaystyle 7\n",
       "+ \\frac{\\displaystyle 1}{\\displaystyle 15\n",
       "+ \\frac{\\displaystyle 1}{\\displaystyle 1\n",
       "+ \\frac{\\displaystyle 1}{\\displaystyle 292\n",
       "+ \\frac{\\displaystyle 1}{\\displaystyle 1\n",
       "+ \\frac{\\displaystyle 1}{\\displaystyle 1\n",
       "+ \\frac{\\displaystyle 1}{\\displaystyle 1\n",
       "+ \\frac{\\displaystyle 1}{\\displaystyle 2\n",
       "+ \\frac{\\displaystyle 1}{\\displaystyle 1\n",
       "+ \\frac{\\displaystyle 1}{\\displaystyle \\dots}}}}}}}}}}\\)</html>"
      ],
      "text/latex": [
       "$\\displaystyle 3\n",
       "+ \\frac{\\displaystyle 1}{\\displaystyle 7\n",
       "+ \\frac{\\displaystyle 1}{\\displaystyle 15\n",
       "+ \\frac{\\displaystyle 1}{\\displaystyle 1\n",
       "+ \\frac{\\displaystyle 1}{\\displaystyle 292\n",
       "+ \\frac{\\displaystyle 1}{\\displaystyle 1\n",
       "+ \\frac{\\displaystyle 1}{\\displaystyle 1\n",
       "+ \\frac{\\displaystyle 1}{\\displaystyle 1\n",
       "+ \\frac{\\displaystyle 1}{\\displaystyle 2\n",
       "+ \\frac{\\displaystyle 1}{\\displaystyle 1\n",
       "+ \\frac{\\displaystyle 1}{\\displaystyle \\dots}}}}}}}}}}$"
      ],
      "text/plain": [
       "[3; 7, 15, 1, 292, 1, 1, 1, 2, 1, 3, 1, 14, 2, 1, 1, 2, 2, 2, 2, ...]"
      ]
     },
     "execution_count": 129,
     "metadata": {},
     "output_type": "execute_result"
    }
   ],
   "source": [
    "CF = continued_fraction(pi)\n",
    "CF"
   ]
  },
  {
   "cell_type": "markdown",
   "metadata": {},
   "source": [
    "The convergents of $x$ (that are the rational approximations of $x$) are given by the method `convergents`. \n",
    "Precisely the call `CF.convergents()` returns the (lazy) list of convergents (this list is finite if $x$ rational, infinite otherwise)."
   ]
  },
  {
   "cell_type": "code",
   "execution_count": 130,
   "metadata": {},
   "outputs": [
    {
     "data": {
      "text/html": [
       "<html>\\(\\displaystyle \\verb|lazy|\\verb| |\\verb|list|\\verb| |\\verb|[3,|\\verb| |\\verb|22/7,|\\verb| |\\verb|333/106,|\\verb| |\\verb|...]|\\)</html>"
      ],
      "text/latex": [
       "$\\displaystyle \\verb|lazy|\\verb| |\\verb|list|\\verb| |\\verb|[3,|\\verb| |\\verb|22/7,|\\verb| |\\verb|333/106,|\\verb| |\\verb|...]|$"
      ],
      "text/plain": [
       "lazy list [3, 22/7, 333/106, ...]"
      ]
     },
     "execution_count": 130,
     "metadata": {},
     "output_type": "execute_result"
    }
   ],
   "source": [
    "CF.convergents()      # the (lazy) list of convergents of pi"
   ]
  },
  {
   "cell_type": "code",
   "execution_count": 131,
   "metadata": {},
   "outputs": [
    {
     "data": {
      "text/html": [
       "<html>\\(\\displaystyle 3\\)</html>"
      ],
      "text/latex": [
       "$\\displaystyle 3$"
      ],
      "text/plain": [
       "3"
      ]
     },
     "execution_count": 131,
     "metadata": {},
     "output_type": "execute_result"
    }
   ],
   "source": [
    "CF.convergents()[0]   # first approximation of pi"
   ]
  },
  {
   "cell_type": "code",
   "execution_count": 138,
   "metadata": {},
   "outputs": [
    {
     "data": {
      "text/html": [
       "<html>\\(\\displaystyle \\frac{355}{113}\\)</html>"
      ],
      "text/latex": [
       "$\\displaystyle \\frac{355}{113}$"
      ],
      "text/plain": [
       "355/113"
      ]
     },
     "execution_count": 138,
     "metadata": {},
     "output_type": "execute_result"
    }
   ],
   "source": [
    "CF.convergents()[3]   # second approximation of pi"
   ]
  },
  {
   "cell_type": "markdown",
   "metadata": {},
   "source": [
    "**Exercise 2.6**: write a function `findPeriod(n, m, f)` that returns the period of `f`"
   ]
  },
  {
   "cell_type": "code",
   "execution_count": 158,
   "metadata": {},
   "outputs": [],
   "source": [
    "def findPeriod(n, m, f):\n",
    "    for i in range(100):\n",
    "        y=simplifiedShorCircuit(n,m,f)\n",
    "        cf=continued_fraction(y/(2^n))\n",
    "        for fraction in cf.convergents():\n",
    "            if f(fraction.denominator())==f(0):\n",
    "                return fraction.denominator()\n",
    "    print(\"Algorithm failed\")\n",
    "    return 0\n",
    "\"\"\"\n",
    "Je devrais prendre plusieurs échantillon et\n",
    "renvoyer leurs gcds.\n",
    "\"\"\""
   ]
  },
  {
   "cell_type": "code",
   "execution_count": 159,
   "metadata": {},
   "outputs": [
    {
     "data": {
      "text/html": [
       "<html>\\(\\displaystyle 455\\)</html>"
      ],
      "text/latex": [
       "$\\displaystyle 455$"
      ],
      "text/plain": [
       "455"
      ]
     },
     "execution_count": 159,
     "metadata": {},
     "output_type": "execute_result"
    }
   ],
   "source": [
    "findPeriod(6, 3, modr(7))   # should return 7\n",
    "\"\"\"\n",
    "Retourne un multiple de 7\n",
    "\"\"\""
   ]
  },
  {
   "cell_type": "code",
   "execution_count": 160,
   "metadata": {},
   "outputs": [
    {
     "data": {
      "text/html": [
       "<html>\\(\\displaystyle 4213\\)</html>"
      ],
      "text/latex": [
       "$\\displaystyle 4213$"
      ],
      "text/plain": [
       "4213"
      ]
     },
     "execution_count": 160,
     "metadata": {},
     "output_type": "execute_result"
    }
   ],
   "source": [
    "findPeriod(7, 4, modr(11))  # should return 11\n",
    "\"\"\"\n",
    "Retourne un multiple de 11\n",
    "\"\"\""
   ]
  },
  {
   "cell_type": "code",
   "execution_count": 162,
   "metadata": {},
   "outputs": [
    {
     "data": {
      "text/html": [
       "<html>\\(\\displaystyle \\begin{array}{l}\n",
       "\\\\\n",
       "\\verb|Retourne|\\verb| |\\verb|un|\\verb| |\\verb|multiple|\\verb| |\\verb|de|\\verb| |\\verb|10|\\\\\n",
       "\n",
       "\\end{array}\\)</html>"
      ],
      "text/latex": [
       "$\\displaystyle \\begin{array}{l}\n",
       "\\\\\n",
       "\\verb|Retourne|\\verb| |\\verb|un|\\verb| |\\verb|multiple|\\verb| |\\verb|de|\\verb| |\\verb|10|\\\\\n",
       "\n",
       "\\end{array}$"
      ],
      "text/plain": [
       "'\\nRetourne un multiple de 10\\n'"
      ]
     },
     "execution_count": 162,
     "metadata": {},
     "output_type": "execute_result"
    }
   ],
   "source": [
    "def powermod(a, n):\n",
    "    def f(x):\n",
    "        return (a^x) % n\n",
    "    return f\n",
    "findPeriod(7, 4, powermod(2, 11))  # should return 10 (which is the order of 2 modulo 11)\n",
    "\"\"\"\n",
    "Retourne un multiple de 10\n",
    "\"\"\""
   ]
  },
  {
   "cell_type": "code",
   "execution_count": null,
   "metadata": {},
   "outputs": [],
   "source": []
  }
 ],
 "metadata": {
  "kernelspec": {
   "display_name": "SageMath 10.4",
   "language": "sage",
   "name": "sagemath"
  },
  "language_info": {
   "codemirror_mode": {
    "name": "ipython",
    "version": 3
   },
   "file_extension": ".py",
   "mimetype": "text/x-python",
   "name": "python",
   "nbconvert_exporter": "python",
   "pygments_lexer": "ipython3",
   "version": "3.12.7"
  }
 },
 "nbformat": 4,
 "nbformat_minor": 4
}
