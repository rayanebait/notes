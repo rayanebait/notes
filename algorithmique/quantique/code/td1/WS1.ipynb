{
 "cells": [
  {
   "cell_type": "markdown",
   "metadata": {},
   "source": [
    "# 1. Quantum computer\n",
    "\n",
    "In all this worksheet, we will use an emulator in Sage of a quantum computer.\n",
    "\n",
    "For this, we stary by importing the relevant package"
   ]
  },
  {
   "cell_type": "code",
   "execution_count": 1,
   "metadata": {},
   "outputs": [],
   "source": [
    "from quantum.computer import QuantumComputer\n"
   ]
  },
  {
   "cell_type": "markdown",
   "metadata": {},
   "source": [
    "## Instantiating a quantum computer\n",
    "\n",
    "To use this package, we first need to instantiate a quantum computer; this is done as follows"
   ]
  },
  {
   "cell_type": "code",
   "execution_count": 2,
   "metadata": {},
   "outputs": [
    {
     "data": {
      "text/plain": [
       "Quantum computer"
      ]
     },
     "execution_count": 2,
     "metadata": {},
     "output_type": "execute_result"
    }
   ],
   "source": [
    "QC = QuantumComputer()\n",
    "QC"
   ]
  },
  {
   "cell_type": "markdown",
   "metadata": {},
   "source": [
    "## Managing memory\n",
    "\n",
    "The method `malloc(n)` allocates a range of memory of `n` qubits and returns a pointer to it."
   ]
  },
  {
   "cell_type": "code",
   "execution_count": 3,
   "metadata": {},
   "outputs": [
    {
     "data": {
      "text/plain": [
       "Quantum register of 2 qubits"
      ]
     },
     "execution_count": 3,
     "metadata": {},
     "output_type": "execute_result"
    }
   ],
   "source": [
    "x = QC.malloc(2)\n",
    "x"
   ]
  },
  {
   "cell_type": "markdown",
   "metadata": {},
   "source": [
    "In our implementation, the type of a register can only be a pointer to an `unsigned int`, *i.e.* a register of `n` qubits stores an integer between $0$ and $2^n-1$. At the creation, all variables are initialized with the value `0`.\n",
    "\n",
    "The method `used_memory` returns the number of allocated qubits."
   ]
  },
  {
   "cell_type": "code",
   "execution_count": 4,
   "metadata": {},
   "outputs": [
    {
     "data": {
      "text/plain": [
       "2"
      ]
     },
     "execution_count": 4,
     "metadata": {},
     "output_type": "execute_result"
    }
   ],
   "source": [
    "QC.used_memory()"
   ]
  },
  {
   "cell_type": "code",
   "execution_count": 5,
   "metadata": {},
   "outputs": [],
   "source": [
    "a = QC.malloc(1)\n",
    "b = QC.malloc(1)\n",
    "c = QC.malloc(1)"
   ]
  },
  {
   "cell_type": "code",
   "execution_count": 6,
   "metadata": {},
   "outputs": [
    {
     "data": {
      "text/plain": [
       "5"
      ]
     },
     "execution_count": 6,
     "metadata": {},
     "output_type": "execute_result"
    }
   ],
   "source": [
    "QC.used_memory()"
   ]
  },
  {
   "cell_type": "markdown",
   "metadata": {},
   "source": [
    "It is also possible to desallocate memory using the method `free`.\n",
    "\n",
    "*However, you should be very careful with this because freeing memory first performs a measure and so may alter other qubits.*"
   ]
  },
  {
   "cell_type": "code",
   "execution_count": 7,
   "metadata": {},
   "outputs": [
    {
     "data": {
      "text/plain": [
       "0"
      ]
     },
     "execution_count": 7,
     "metadata": {},
     "output_type": "execute_result"
    }
   ],
   "source": [
    "QC.free(c)"
   ]
  },
  {
   "cell_type": "code",
   "execution_count": 8,
   "metadata": {},
   "outputs": [
    {
     "data": {
      "text/plain": [
       "4"
      ]
     },
     "execution_count": 8,
     "metadata": {},
     "output_type": "execute_result"
    }
   ],
   "source": [
    "QC.used_memory()"
   ]
  },
  {
   "cell_type": "markdown",
   "metadata": {},
   "source": [
    "## Builtin Gates\n",
    "\n",
    "Our implementation includes a few builtin gates.\n",
    "\n",
    "**The Hadamard gate**\n",
    "\n",
    "The following syntax apply to Hadamard gate to each bit of `x`"
   ]
  },
  {
   "cell_type": "code",
   "execution_count": 9,
   "metadata": {},
   "outputs": [],
   "source": [
    "QC.hadamard(x)"
   ]
  },
  {
   "cell_type": "markdown",
   "metadata": {},
   "source": [
    "This function does not return anything but modify the internal state of the quantum computer (creating here a uniform superposition of all possible value in the register `x` and letting unchanged all other registers). We can have access to it using the method `internal_state()`.\n",
    "\n",
    "**Caution**: the values returned by this method are not accessible in the real world; as a consequence, this function is only meant for pedogogical purpose and debugging. Don't use it in your programs!"
   ]
  },
  {
   "cell_type": "code",
   "execution_count": 10,
   "metadata": {},
   "outputs": [
    {
     "data": {
      "text/plain": [
       "0.500000000000000*|0000> + 0.500000000000000*|0100> + 0.500000000000000*|1000> + 0.500000000000000*|1100>"
      ]
     },
     "execution_count": 10,
     "metadata": {},
     "output_type": "execute_result"
    }
   ],
   "source": [
    "QC.internal_state()"
   ]
  },
  {
   "cell_type": "markdown",
   "metadata": {},
   "source": [
    "**The NOT Gate**\n",
    "\n",
    "Similarly to the Hadamard case, the following syntax applies the NOT gate to each bit of `x`"
   ]
  },
  {
   "cell_type": "code",
   "execution_count": 11,
   "metadata": {},
   "outputs": [],
   "source": [
    "QC.X(x)"
   ]
  },
  {
   "cell_type": "markdown",
   "metadata": {},
   "source": [
    "**The controlled NOT gate**\n",
    "\n",
    "In the following syntax, the controlling bit is the first register."
   ]
  },
  {
   "cell_type": "code",
   "execution_count": 12,
   "metadata": {},
   "outputs": [],
   "source": [
    "QC.CX(a, x)"
   ]
  },
  {
   "cell_type": "markdown",
   "metadata": {},
   "source": [
    "**The double controlled NOT gate (Toffoli gate)**\n",
    "\n",
    "In the following syntax, the controlling bits are the two first registers."
   ]
  },
  {
   "cell_type": "code",
   "execution_count": 13,
   "metadata": {},
   "outputs": [],
   "source": [
    "QC.CCX(a, b, x)"
   ]
  },
  {
   "cell_type": "markdown",
   "metadata": {},
   "source": [
    "After applying all the previous gates, the internal state is now:"
   ]
  },
  {
   "cell_type": "code",
   "execution_count": 14,
   "metadata": {},
   "outputs": [],
   "source": [
    "QC.phase_shift(x, pi/8)"
   ]
  },
  {
   "cell_type": "code",
   "execution_count": 15,
   "metadata": {},
   "outputs": [
    {
     "data": {
      "text/plain": [
       "0.500000000000000*|0000> + (0.461939766255643 + 0.191341716182545*I)*|0100> + (0.461939766255643 + 0.191341716182545*I)*|1000> + (0.353553390593274 + 0.353553390593274*I)*|1100>"
      ]
     },
     "execution_count": 15,
     "metadata": {},
     "output_type": "execute_result"
    }
   ],
   "source": [
    "QC.internal_state()"
   ]
  },
  {
   "cell_type": "markdown",
   "metadata": {},
   "source": [
    "## Oracles: gates associated to classical functions\n",
    "\n",
    "The method `apply(f, x, y)` applies the gate of the form $U_f$ where $f$ is a usual function acting on integers."
   ]
  },
  {
   "cell_type": "code",
   "execution_count": 16,
   "metadata": {},
   "outputs": [],
   "source": [
    "def mod2(v):\n",
    "    return v % 2"
   ]
  },
  {
   "cell_type": "code",
   "execution_count": 17,
   "metadata": {},
   "outputs": [],
   "source": [
    "QC.apply(mod2, x, a)"
   ]
  },
  {
   "cell_type": "code",
   "execution_count": 18,
   "metadata": {},
   "outputs": [
    {
     "data": {
      "text/plain": [
       "0.500000000000000*|0000> + (0.461939766255643 + 0.191341716182545*I)*|0110> + (0.461939766255643 + 0.191341716182545*I)*|1000> + (0.353553390593274 + 0.353553390593274*I)*|1110>"
      ]
     },
     "execution_count": 18,
     "metadata": {},
     "output_type": "execute_result"
    }
   ],
   "source": [
    "QC.internal_state()"
   ]
  },
  {
   "cell_type": "markdown",
   "metadata": {},
   "source": [
    "This method also works for multivariate functions.\n",
    "\n",
    "The two syntaxes `QC.apply(function, x1, x2, ..., xn, y)` or `QC.apply(function, [x1, x2, ..., xn], y)` are allowed."
   ]
  },
  {
   "cell_type": "markdown",
   "metadata": {},
   "source": [
    "**Exercise 1.1**: initiate a new quantum computer and create the superposition:\n",
    "$$\\frac 1 4 \\cdot \\sum_{i=0}^3 \\sum_{j=0}^3 \\left|i\\right> \\otimes \\left|j\\right> \\otimes \\left|i+j\\right>$$\n",
    "where $i$ and $j$ are encoded on the register of 2 qubits and the result $i+j$ is encoded on the register of 3 qubits."
   ]
  },
  {
   "cell_type": "code",
   "execution_count": 25,
   "metadata": {},
   "outputs": [
    {
     "data": {
      "text/plain": [
       "0.250000000000000*|0000000> + 0.250000000000000*|0001001> + 0.250000000000000*|0010010> + 0.250000000000000*|0011011> + 0.250000000000000*|0100001> + 0.250000000000000*|0101010> + 0.250000000000000*|0110011> + 0.250000000000000*|0111100> + 0.250000000000000*|1000010> + 0.250000000000000*|1001011> + 0.250000000000000*|1010100> + 0.250000000000000*|1011101> + 0.250000000000000*|1100011> + 0.250000000000000*|1101100> + 0.250000000000000*|1110101> + 0.250000000000000*|1111110>"
      ]
     },
     "execution_count": 25,
     "metadata": {},
     "output_type": "execute_result"
    }
   ],
   "source": [
    "QC = QuantumComputer()\n",
    "x = QC.malloc(2)  # register for i's\n",
    "y = QC.malloc(2)  # register for j's\n",
    "z = QC.malloc(3)  # register for the sum\n",
    "QC.hadamard(x)\n",
    "QC.hadamard(y)\n",
    "def add(x,y):\n",
    "    return x+y\n",
    "QC.apply(add, x,y,z)\n",
    "QC.internal_state()"
   ]
  },
  {
   "cell_type": "markdown",
   "metadata": {},
   "source": [
    "## Measures\n",
    "\n",
    "The method `measure(x)` measures all the bits of the register `x` and returns the measured value (as an integer)."
   ]
  },
  {
   "cell_type": "code",
   "execution_count": 26,
   "metadata": {},
   "outputs": [
    {
     "data": {
      "text/plain": [
       "3"
      ]
     },
     "execution_count": 26,
     "metadata": {},
     "output_type": "execute_result"
    }
   ],
   "source": [
    "QC.measure(z)"
   ]
  },
  {
   "cell_type": "markdown",
   "metadata": {},
   "source": [
    "**Exercise 1.2**: what are the possible outputs of the command above? and what are the probabilites to get them?"
   ]
  },
  {
   "cell_type": "markdown",
   "metadata": {},
   "source": [
    "As required by the theory, the measure alters the internal state of the computer."
   ]
  },
  {
   "cell_type": "code",
   "execution_count": 27,
   "metadata": {},
   "outputs": [
    {
     "data": {
      "text/plain": [
       "0.500000000000000*|0011011> + 0.500000000000000*|0110011> + 0.500000000000000*|1001011> + 0.500000000000000*|1100011>"
      ]
     },
     "execution_count": 27,
     "metadata": {},
     "output_type": "execute_result"
    }
   ],
   "source": [
    "QC.internal_state()"
   ]
  },
  {
   "cell_type": "markdown",
   "metadata": {},
   "source": [
    "## Complexity\n",
    "\n",
    "The method `cputime` counts the number of elementary gates and measures which were applied since the instantation of this quantum computer. Oracles (gates associated to classical functions) are not counted and Hadamard gates, NOT gates and measures acting on `n` qubits count for `n`."
   ]
  },
  {
   "cell_type": "code",
   "execution_count": 28,
   "metadata": {},
   "outputs": [
    {
     "data": {
      "text/plain": [
       "7"
      ]
     },
     "execution_count": 28,
     "metadata": {},
     "output_type": "execute_result"
    }
   ],
   "source": [
    "QC.cputime()"
   ]
  },
  {
   "cell_type": "markdown",
   "metadata": {},
   "source": [
    "The method `walltime` does the same counting but includes oracles."
   ]
  },
  {
   "cell_type": "code",
   "execution_count": 29,
   "metadata": {},
   "outputs": [
    {
     "data": {
      "text/plain": [
       "8"
      ]
     },
     "execution_count": 29,
     "metadata": {},
     "output_type": "execute_result"
    }
   ],
   "source": [
    "QC.walltime()"
   ]
  },
  {
   "cell_type": "markdown",
   "metadata": {},
   "source": [
    "# 2. Quantum adder"
   ]
  },
  {
   "cell_type": "code",
   "execution_count": 32,
   "metadata": {},
   "outputs": [],
   "source": [
    "def QuantumSemiadder(QC, a, b, cin, cout):\n",
    "    QC.CCX(a, b, cout)\n",
    "    QC.CX(a, b)\n",
    "    QC.CCX(b, cin, cout)\n",
    "    QC.CX(b, cin)\n",
    "    QC.CX(a, b)"
   ]
  },
  {
   "cell_type": "markdown",
   "metadata": {},
   "source": [
    "**Exercise 3.1**: write the circuit correspoing to the previous code and observe that it implements a semi-adder: after it is executed the number `cout cin` (in base 2) is the sum `a + b + cin`"
   ]
  },
  {
   "cell_type": "markdown",
   "metadata": {},
   "source": [
    "**Exercice 3.2**: design a circuit acting on $(3n+1)$-qubits with the property that:\n",
    "\n",
    "$$\\left|x\\right> \\otimes \\left|y\\right> \\otimes \\left|0\\right> \\mapsto \\left|x\\right> \\otimes \\left|y\\right> \n",
    "\\otimes \\left|x+y\\right>$$\n",
    "\n",
    "where $x$ and $y$ are two integers with $n$ digits and the plus sign is the classical addition.\n",
    "\n",
    "**Exercice 3.3**: write a function `QuantumAdder(q)` implementing this circuit"
   ]
  },
  {
   "cell_type": "code",
   "execution_count": 45,
   "metadata": {},
   "outputs": [],
   "source": [
    "def QuantumAdder(QC,q):\n",
    "    #supposes q is |x>|y>|0> of size 3n+1\n",
    "    l = (q.size()-1)//3\n",
    "    for i in range(n):\n",
    "        QuantumSemiadder(QC,q[n-1-i],q[2*n-1-i],q[3*n-1-i], q[3*n-i])"
   ]
  },
  {
   "cell_type": "markdown",
   "metadata": {},
   "source": [
    "**Exercice 3.4**: write tests demonstrating that your function `QuantumAdder` works correctly"
   ]
  },
  {
   "cell_type": "code",
   "execution_count": 54,
   "metadata": {},
   "outputs": [
    {
     "data": {
      "text/plain": [
       "0.707106781186548*|0000000000> + 0.707106781186548*|0001000001>"
      ]
     },
     "execution_count": 54,
     "metadata": {},
     "output_type": "execute_result"
    }
   ],
   "source": [
    "QC_=QuantumComputer()\n",
    "n=3\n",
    "\n",
    "q=QC_.malloc(3*n+1)\n",
    "\n",
    "QC_.hadamard(q[0])\n",
    "\n",
    "QC_.internal_state()\n",
    "QuantumAdder(QC_,q)\n",
    "QC_.internal_state()"
   ]
  },
  {
   "cell_type": "code",
   "execution_count": null,
   "metadata": {},
   "outputs": [],
   "source": []
  }
 ],
 "metadata": {
  "kernelspec": {
   "display_name": "SageMath 10.4",
   "language": "sage",
   "name": "sagemath"
  },
  "language_info": {
   "codemirror_mode": {
    "name": "ipython",
    "version": 3
   },
   "file_extension": ".py",
   "mimetype": "text/x-python",
   "name": "python",
   "nbconvert_exporter": "python",
   "pygments_lexer": "ipython3",
   "version": "3.12.7"
  }
 },
 "nbformat": 4,
 "nbformat_minor": 4
}
