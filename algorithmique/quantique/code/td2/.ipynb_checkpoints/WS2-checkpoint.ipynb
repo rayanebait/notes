{
 "cells": [
  {
   "cell_type": "markdown",
   "metadata": {},
   "source": [
    "During this session, we will use the same quantum computer emulator as in WS1.\n",
    "We refer to WS1 for the documentation of this emulator.\n",
    "\n",
    "We import the relevant package:"
   ]
  },
  {
   "cell_type": "code",
   "execution_count": 2,
   "metadata": {},
   "outputs": [],
   "source": [
    "from quantum.computer import QuantumComputer"
   ]
  },
  {
   "cell_type": "markdown",
   "metadata": {},
   "source": [
    "and instantiate a quantum computer:"
   ]
  },
  {
   "cell_type": "code",
   "execution_count": 3,
   "metadata": {},
   "outputs": [
    {
     "data": {
      "text/plain": [
       "Quantum computer"
      ]
     },
     "execution_count": 3,
     "metadata": {},
     "output_type": "execute_result"
    }
   ],
   "source": [
    "QC = QuantumComputer()\n",
    "QC"
   ]
  },
  {
   "cell_type": "markdown",
   "metadata": {},
   "source": [
    "# 1. Preliminaries\n",
    "\n",
    "## Quick reminders about allocation of memory\n",
    "\n",
    "We recall that the method `malloc` has to be used to allocate a range of memory on a quantum computer.\n",
    "It returns a pointer to it, called a *register*."
   ]
  },
  {
   "cell_type": "code",
   "execution_count": 4,
   "metadata": {},
   "outputs": [],
   "source": [
    "a = QC.malloc(2)  # we allocate 2 qubits on our quantum computer QC\n",
    "b = QC.malloc(1)  # we allocate 1 more qubit on our quantum computer QC "
   ]
  },
  {
   "cell_type": "markdown",
   "metadata": {},
   "source": [
    "In our implementation, we always consider that a register of $n$ qubits stores an integer between $0$ and $2^n-1$, *i.e.* it is of type `unsigned int`. Moreover, a newly created register is always initialized with the default value `0`.\n",
    "\n",
    "At this point, the internal state of our quantum computer is then represented by the qubit $\\left|000\\right>$ (the two first bits correspond to the value of `a`, the last one to the value of `b`)."
   ]
  },
  {
   "cell_type": "code",
   "execution_count": 5,
   "metadata": {},
   "outputs": [
    {
     "data": {
      "text/plain": [
       "|000>"
      ]
     },
     "execution_count": 5,
     "metadata": {},
     "output_type": "execute_result"
    }
   ],
   "source": [
    "QC.internal_state()"
   ]
  },
  {
   "cell_type": "markdown",
   "metadata": {},
   "source": [
    "## Accessing bits of a register\n",
    "\n",
    "If `a` is a register, the bracket construction `a[i]` allows for accessing its $i$-th bit.\n",
    "Precisely, it returns a register pointing to its $i$-th bit, starting for the right. "
   ]
  },
  {
   "cell_type": "code",
   "execution_count": 6,
   "metadata": {},
   "outputs": [
    {
     "data": {
      "text/plain": [
       "0.500000000000000*|00000> + 0.500000000000000*|00001> + 0.500000000000000*|00010> + 0.500000000000000*|00011>"
      ]
     },
     "execution_count": 6,
     "metadata": {},
     "output_type": "execute_result"
    }
   ],
   "source": [
    "# We instantiate a new quantum computer\n",
    "QC = QuantumComputer()\n",
    "\n",
    "# We create a register of 5 qubits\n",
    "a = QC.malloc(5)\n",
    "\n",
    "# We apply Hadamard on the two ending bits\n",
    "QC.hadamard(a[0])\n",
    "QC.hadamard(a[1])\n",
    "\n",
    "# The result we get is then a uniform superposition of all integers between 0 and 3\n",
    "QC.internal_state()"
   ]
  },
  {
   "cell_type": "markdown",
   "metadata": {},
   "source": [
    "**Exercice 1.1**: write a function `revert(QC, reg)` that reverts the digits of the integer stored in the register `reg` (stored in the quantum computer `QC`). (You can use the syntax `reg.size()` to access the size of the register and the method `QC.swap(a, b)` to swap the contents of the registers `a` and `b`.)"
   ]
  },
  {
   "cell_type": "code",
   "execution_count": 7,
   "metadata": {},
   "outputs": [],
   "source": [
    "def revert(QC, reg):\n",
    "    ### write your code here\n",
    "    l = reg.size()\n",
    "    for i in range(l//2):\n",
    "        QC.swap(reg[i],reg[l-i-1])"
   ]
  },
  {
   "cell_type": "code",
   "execution_count": 8,
   "metadata": {},
   "outputs": [
    {
     "data": {
      "text/plain": [
       "0.500000000000000*|00000> + 0.500000000000000*|01000> + 0.500000000000000*|10000> + 0.500000000000000*|11000>"
      ]
     },
     "execution_count": 8,
     "metadata": {},
     "output_type": "execute_result"
    }
   ],
   "source": [
    "revert(QC, a)\n",
    "QC.internal_state()   # should return 1/2 * (|00000> + |01000> + |10000> + |11000>)"
   ]
  },
  {
   "cell_type": "markdown",
   "metadata": {},
   "source": [
    "# 2. Deutsch-Jozsa algorithm\n",
    "\n",
    "**Exercise 2.1**: implement a function `deutsch(f)` that takes as input a function $f : \\{0, 1\\} \\to \\{0,1\\}$ and returns `True` if $f(0) = f(1)$ and `False` otherwise."
   ]
  },
  {
   "cell_type": "code",
   "execution_count": 9,
   "metadata": {},
   "outputs": [],
   "source": [
    "def deutsch(f):\n",
    "    \"\"\"\n",
    "    Return ``True`` if `f(0) = f(1)`, ``False`` otherwise.\n",
    "    \"\"\"\n",
    "    QC=QuantumComputer()\n",
    "    x=QC.malloc(1)\n",
    "    y=QC.malloc(1)\n",
    "    QC.X(y)\n",
    "    QC.hadamard(x)\n",
    "    QC.hadamard(y)\n",
    "    QC.apply(f,x,y)\n",
    "    QC.hadamard(x)\n",
    "    result=QC.measure(x)\n",
    "    QC.free(x)\n",
    "    QC.free(y)\n",
    "    if result==0:\n",
    "        return True\n",
    "    else:\n",
    "        return False"
   ]
  },
  {
   "cell_type": "markdown",
   "metadata": {},
   "source": [
    "Some checkings:"
   ]
  },
  {
   "cell_type": "code",
   "execution_count": 10,
   "metadata": {},
   "outputs": [
    {
     "data": {
      "text/plain": [
       "False"
      ]
     },
     "execution_count": 10,
     "metadata": {},
     "output_type": "execute_result"
    }
   ],
   "source": [
    "def identity(x):\n",
    "    return x\n",
    "deutsch(identity)  # should return False"
   ]
  },
  {
   "cell_type": "code",
   "execution_count": 11,
   "metadata": {},
   "outputs": [
    {
     "data": {
      "text/plain": [
       "True"
      ]
     },
     "execution_count": 11,
     "metadata": {},
     "output_type": "execute_result"
    }
   ],
   "source": [
    "def zero(x):\n",
    "    return 0\n",
    "deutsch(zero)      # should return True"
   ]
  },
  {
   "cell_type": "markdown",
   "metadata": {},
   "source": [
    "**Exercise 2.2**: implement a function `deutsch_jozsa(n,f)` allowing for inputs $f : \\{0, \\ldots, 2^n-1\\} \\to \\{0,1\\}$"
   ]
  },
  {
   "cell_type": "code",
   "execution_count": 12,
   "metadata": {},
   "outputs": [],
   "source": [
    "def deutsch_jozsa(n, f):\n",
    "    \"\"\"\n",
    "    Return ``True`` if ``f`` is constant, ``False`` if ``f`` is balanced.\n",
    "    \"\"\"\n",
    "    QC=QuantumComputer()\n",
    "    x=QC.malloc(n)\n",
    "    y=QC.malloc(1)\n",
    "    QC.X(y)\n",
    "    QC.hadamard(x)\n",
    "    QC.hadamard(y)\n",
    "    QC.apply(f,x,y)\n",
    "    QC.hadamard(x)\n",
    "    result=QC.measure(x)\n",
    "    QC.free(x)\n",
    "    QC.free(y)\n",
    "    if result==0:\n",
    "        return True\n",
    "    else:\n",
    "        return False"
   ]
  },
  {
   "cell_type": "code",
   "execution_count": 13,
   "metadata": {},
   "outputs": [
    {
     "data": {
      "text/plain": [
       "True"
      ]
     },
     "execution_count": 13,
     "metadata": {},
     "output_type": "execute_result"
    }
   ],
   "source": [
    "deutsch_jozsa(5, zero)  # should return True"
   ]
  },
  {
   "cell_type": "code",
   "execution_count": 14,
   "metadata": {},
   "outputs": [
    {
     "data": {
      "text/plain": [
       "False"
      ]
     },
     "execution_count": 14,
     "metadata": {},
     "output_type": "execute_result"
    }
   ],
   "source": [
    "def mod2(x):\n",
    "    return x % 2\n",
    "deutsch_jozsa(5, mod2)  # should return False"
   ]
  },
  {
   "cell_type": "markdown",
   "metadata": {},
   "source": [
    "**Exercice 2.3**: write more tests demonstrating that your function works as expected"
   ]
  },
  {
   "cell_type": "code",
   "execution_count": 17,
   "metadata": {},
   "outputs": [],
   "source": [
    "def legendre_mod_7(k):\n",
    "    return (kronecker(k,7)+1)//2\n",
    "#Not exactly constant"
   ]
  },
  {
   "cell_type": "code",
   "execution_count": 27,
   "metadata": {},
   "outputs": [
    {
     "data": {
      "text/plain": [
       "False"
      ]
     },
     "execution_count": 27,
     "metadata": {},
     "output_type": "execute_result"
    }
   ],
   "source": [
    "deutsch_jozsa(3,legendre_mod_7)"
   ]
  },
  {
   "cell_type": "code",
   "execution_count": 19,
   "metadata": {},
   "outputs": [],
   "source": [
    "def f_equiv_1(k):\n",
    "    return 1"
   ]
  },
  {
   "cell_type": "code",
   "execution_count": 38,
   "metadata": {},
   "outputs": [
    {
     "name": "stdout",
     "output_type": "stream",
     "text": [
      "14 True\n"
     ]
    }
   ],
   "source": [
    "n=ZZ.random_element(1, 15)\n",
    "print(n,deutsch_jozsa(n, f_equiv_1))"
   ]
  }
 ],
 "metadata": {
  "kernelspec": {
   "display_name": "SageMath 10.4",
   "language": "sage",
   "name": "sagemath"
  },
  "language_info": {
   "codemirror_mode": {
    "name": "ipython",
    "version": 3
   },
   "file_extension": ".py",
   "mimetype": "text/x-python",
   "name": "python",
   "nbconvert_exporter": "python",
   "pygments_lexer": "ipython3",
   "version": "3.12.6"
  }
 },
 "nbformat": 4,
 "nbformat_minor": 4
}
